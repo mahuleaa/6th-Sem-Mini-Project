Introduction
In recent years, computer vision has emerged as a powerful field in artificial intelligence and machine learning, offering innovative solutions to real-world problems. One such application is the detection, tracking, and counting of vehicles in traffic videos, which has significant implications for traffic management, urban planning, and public safety.

For this project, we leverage the state-of-the-art YOLOv8 (You Only Look Once version 8) algorithm. YOLOv8 is known for its efficiency and accuracy in object detection tasks, making it particularly well-suited for real-time applications. Our focus is on detecting and tracking both trucks and cars in a dynamic traffic environment, providing a comprehensive understanding of vehicle movement patterns.

Objective
The primary objective of this project is to develop a robust and efficient system for the detection, tracking, and counting of trucks and cars in traffic videos. Specifically, we aim to achieve the following:

Detection: Implement YOLOv8 for accurate and real-time detection of trucks and cars in video frames, ensuring a high level of precision.

Tracking: Utilize advanced tracking algorithms to follow the identified vehicles across consecutive frames, maintaining consistent and reliable tracking throughout the video sequence.

Counting: Implement a counting mechanism to accurately tally the number of trucks and cars passing through a specific region of interest within the video.

Efficiency: Optimize the overall system for computational efficiency, enabling real-time performance.

Process Diagram
!nvidia-smi #Let's make sure that we have access to GPU.
Wed Nov  8 18:09:28 2023       
+-----------------------------------------------------------------------------+
| NVIDIA-SMI 525.105.17   Driver Version: 525.105.17   CUDA Version: 12.0     |
|-------------------------------+----------------------+----------------------+
| GPU  Name        Persistence-M| Bus-Id        Disp.A | Volatile Uncorr. ECC |
| Fan  Temp  Perf  Pwr:Usage/Cap|         Memory-Usage | GPU-Util  Compute M. |
|                               |                      |               MIG M. |
|===============================+======================+======================|
|   0  Tesla T4            Off  | 00000000:00:04.0 Off |                    0 |
| N/A   47C    P8     9W /  70W |      0MiB / 15360MiB |      0%      Default |
|                               |                      |                  N/A |
+-------------------------------+----------------------+----------------------+
                                                                               
+-----------------------------------------------------------------------------+
| Processes:                                                                  |
|  GPU   GI   CI        PID   Type   Process name                  GPU Memory |
|        ID   ID                                                   Usage      |
|=============================================================================|
|  No running processes found                                                 |
+-----------------------------------------------------------------------------+
import os
HOME = os.getcwd()
print(HOME)
/content
!pip install ultralytics==8.0.20

from IPython import display
display.clear_output()

import ultralytics
ultralytics.checks()
Ultralytics YOLOv8.0.20 🚀 Python-3.10.12 torch-2.1.0+cu121 CUDA:0 (Tesla T4, 15102MiB)
Setup complete ✅ (2 CPUs, 12.7 GB RAM, 26.3/78.2 GB disk)
Project Workflow
image.png

YOLOv8
Ultralytics YOLOv8 is the latest version of the YOLO (You Only Look Once) object detection and image segmentation model developed by Ultralytics. YOLO is a popular real-time object detection system that has seen several versions, each improving upon the previous one. YOLOv8, like its predecessors, is known for its speed and accuracy in object detection tasks. The fundamental idea behind YOLO is to divide an image into a grid and simultaneously predict bounding boxes and class probabilities for each grid cell. This differs from traditional object detection methods that involve sliding a window or region proposal network over an image. It can be trained on large datasets and is capable of running on a variety of hardware platforms, from CPUs to GPUs.

image.png

Anchor Free Detection
The main difference between yolo v8 and previous yolo versions is that yolo v8 uses an anchor-free model. This means it predicts directly the center of an object instead of the offset from a known anchor box. Anchor free detection reduces the number of box predictions, which speeds up Non-Maximum Suppression (NMS), a complicated post processing step that sifts through candidate detections after inference.image.png

from ultralytics import YOLO

from IPython.display import display, Image
Preparing a custom dataset
Building a custom dataset can be a painful process. It might take dozens or even hundreds of hours to collect images, label them, and export them in the proper format. Fortunately, Roboflow makes this process as straightforward and fast as possible. Let me show you how!

Step 1: Creating project
We did our dataset preparation using Roboflow website.


Step 2: Uploading images
Next, we add the data to our newly created project. We did it via API.


Step 3: Labeling
If you only have images, you can label them in Roboflow Annotate


Step 4: Generate new dataset version
Now that we have our images and annotations added, we can Generate a Dataset Version. When Generating a Version, you may elect to add preprocessing and augmentations. This step is completely optional, however, it can allow you to significantly improve the robustness of your model.


Step 5: Exporting dataset
Once the dataset version is generated, we have a hosted dataset we can load directly into our notebook for easy training.


!mkdir {HOME}/datasets
%cd {HOME}/datasets

!pip install roboflow --quiet


from roboflow import Roboflow
rf = Roboflow(api_key="lwdyTtQ7FBunvXnQCPcc")
project = rf.workspace("jawad").project("object-detect-korbo")
dataset = project.version(1).download("yolov8")
/content/datasets
     ━━━━━━━━━━━━━━━━━━━━━━━━━━━━━━━━━━━━━━━━ 69.9/69.9 kB 968.2 kB/s eta 0:00:00
     ━━━━━━━━━━━━━━━━━━━━━━━━━━━━━━━━━━━━━━━━ 158.3/158.3 kB 3.0 MB/s eta 0:00:00
     ━━━━━━━━━━━━━━━━━━━━━━━━━━━━━━━━━━━━━━━━ 178.7/178.7 kB 11.1 MB/s eta 0:00:00
     ━━━━━━━━━━━━━━━━━━━━━━━━━━━━━━━━━━━━━━━━ 58.8/58.8 kB 7.7 MB/s eta 0:00:00
     ━━━━━━━━━━━━━━━━━━━━━━━━━━━━━━━━━━━━━━━━ 49.1/49.1 MB 18.3 MB/s eta 0:00:00
     ━━━━━━━━━━━━━━━━━━━━━━━━━━━━━━━━━━━━━━━━ 77.5/77.5 kB 10.1 MB/s eta 0:00:00
     ━━━━━━━━━━━━━━━━━━━━━━━━━━━━━━━━━━━━━━━━ 54.5/54.5 kB 7.5 MB/s eta 0:00:00
ERROR: pip's dependency resolver does not currently take into account all the packages that are installed. This behaviour is the source of the following dependency conflicts.
lida 0.0.10 requires fastapi, which is not installed.
lida 0.0.10 requires kaleido, which is not installed.
lida 0.0.10 requires python-multipart, which is not installed.
lida 0.0.10 requires uvicorn, which is not installed.
loading Roboflow workspace...
loading Roboflow project...
Dependency ultralytics==8.0.196 is required but found version=8.0.20, to fix: `pip install ultralytics==8.0.196`
Downloading Dataset Version Zip in object-detect-korbo-1 to yolov8:: 100%|██████████| 8620/8620 [00:00<00:00, 30508.20it/s]
Extracting Dataset Version Zip to object-detect-korbo-1 in yolov8:: 100%|██████████| 204/204 [00:00<00:00, 2787.56it/s]
Training our Custom Dataset
%cd {HOME}

!yolo task=detect mode=train model=yolov8s.pt data={dataset.location}/data.yaml epochs=50 imgsz=800 plots=True
/content
Downloading https://github.com/ultralytics/assets/releases/download/v0.0.0/yolov8s.pt to yolov8s.pt...
100% 21.5M/21.5M [00:00<00:00, 164MB/s]

Ultralytics YOLOv8.0.20 🚀 Python-3.10.12 torch-2.1.0+cu121 CUDA:0 (Tesla T4, 15102MiB)
yolo/engine/trainer: task=detect, mode=train, model=yolov8s.yaml, data=/content/datasets/object-detect-korbo-1/data.yaml, epochs=50, patience=50, batch=16, imgsz=800, save=True, cache=False, device=, workers=8, project=None, name=None, exist_ok=False, pretrained=False, optimizer=SGD, verbose=True, seed=0, deterministic=True, single_cls=False, image_weights=False, rect=False, cos_lr=False, close_mosaic=10, resume=False, overlap_mask=True, mask_ratio=4, dropout=False, val=True, save_json=False, save_hybrid=False, conf=0.001, iou=0.7, max_det=300, half=False, dnn=False, plots=True, source=ultralytics/assets/, show=False, save_txt=False, save_conf=False, save_crop=False, hide_labels=False, hide_conf=False, vid_stride=1, line_thickness=3, visualize=False, augment=False, agnostic_nms=False, classes=None, retina_masks=False, boxes=True, format=torchscript, keras=False, optimize=False, int8=False, dynamic=False, simplify=False, opset=17, workspace=4, nms=False, lr0=0.01, lrf=0.01, momentum=0.937, weight_decay=0.001, warmup_epochs=3.0, warmup_momentum=0.8, warmup_bias_lr=0.1, box=7.5, cls=0.5, dfl=1.5, fl_gamma=0.0, label_smoothing=0.0, nbs=64, hsv_h=0.015, hsv_s=0.7, hsv_v=0.4, degrees=0.0, translate=0.1, scale=0.5, shear=0.0, perspective=0.0, flipud=0.0, fliplr=0.5, mosaic=1.0, mixup=0.0, copy_paste=0.0, cfg=None, v5loader=False, save_dir=runs/detect/train
Downloading https://ultralytics.com/assets/Arial.ttf to /root/.config/Ultralytics/Arial.ttf...
100% 755k/755k [00:00<00:00, 18.1MB/s]
2024-01-16 17:33:57.353487: E external/local_xla/xla/stream_executor/cuda/cuda_dnn.cc:9261] Unable to register cuDNN factory: Attempting to register factory for plugin cuDNN when one has already been registered
2024-01-16 17:33:57.353563: E external/local_xla/xla/stream_executor/cuda/cuda_fft.cc:607] Unable to register cuFFT factory: Attempting to register factory for plugin cuFFT when one has already been registered
2024-01-16 17:33:57.355459: E external/local_xla/xla/stream_executor/cuda/cuda_blas.cc:1515] Unable to register cuBLAS factory: Attempting to register factory for plugin cuBLAS when one has already been registered
2024-01-16 17:33:58.969569: W tensorflow/compiler/tf2tensorrt/utils/py_utils.cc:38] TF-TRT Warning: Could not find TensorRT
Overriding model.yaml nc=80 with nc=2

                   from  n    params  module                                       arguments                     
  0                  -1  1       928  ultralytics.nn.modules.Conv                  [3, 32, 3, 2]                 
  1                  -1  1     18560  ultralytics.nn.modules.Conv                  [32, 64, 3, 2]                
  2                  -1  1     29056  ultralytics.nn.modules.C2f                   [64, 64, 1, True]             
  3                  -1  1     73984  ultralytics.nn.modules.Conv                  [64, 128, 3, 2]               
  4                  -1  2    197632  ultralytics.nn.modules.C2f                   [128, 128, 2, True]           
  5                  -1  1    295424  ultralytics.nn.modules.Conv                  [128, 256, 3, 2]              
  6                  -1  2    788480  ultralytics.nn.modules.C2f                   [256, 256, 2, True]           
  7                  -1  1   1180672  ultralytics.nn.modules.Conv                  [256, 512, 3, 2]              
  8                  -1  1   1838080  ultralytics.nn.modules.C2f                   [512, 512, 1, True]           
  9                  -1  1    656896  ultralytics.nn.modules.SPPF                  [512, 512, 5]                 
 10                  -1  1         0  torch.nn.modules.upsampling.Upsample         [None, 2, 'nearest']          
 11             [-1, 6]  1         0  ultralytics.nn.modules.Concat                [1]                           
 12                  -1  1    591360  ultralytics.nn.modules.C2f                   [768, 256, 1]                 
 13                  -1  1         0  torch.nn.modules.upsampling.Upsample         [None, 2, 'nearest']          
 14             [-1, 4]  1         0  ultralytics.nn.modules.Concat                [1]                           
 15                  -1  1    148224  ultralytics.nn.modules.C2f                   [384, 128, 1]                 
 16                  -1  1    147712  ultralytics.nn.modules.Conv                  [128, 128, 3, 2]              
 17            [-1, 12]  1         0  ultralytics.nn.modules.Concat                [1]                           
 18                  -1  1    493056  ultralytics.nn.modules.C2f                   [384, 256, 1]                 
 19                  -1  1    590336  ultralytics.nn.modules.Conv                  [256, 256, 3, 2]              
 20             [-1, 9]  1         0  ultralytics.nn.modules.Concat                [1]                           
 21                  -1  1   1969152  ultralytics.nn.modules.C2f                   [768, 512, 1]                 
 22        [15, 18, 21]  1   2116822  ultralytics.nn.modules.Detect                [2, [128, 256, 512]]          
Model summary: 225 layers, 11136374 parameters, 11136358 gradients, 28.6 GFLOPs

Transferred 349/355 items from pretrained weights
optimizer: SGD(lr=0.01) with parameter groups 57 weight(decay=0.0), 64 weight(decay=0.001), 63 bias
train: Scanning /content/datasets/object-detect-korbo-1/train/labels... 87 images, 0 backgrounds, 0 corrupt: 100% 87/87 [00:00<00:00, 1627.29it/s]
train: New cache created: /content/datasets/object-detect-korbo-1/train/labels.cache
albumentations: Blur(p=0.01, blur_limit=(3, 7)), MedianBlur(p=0.01, blur_limit=(3, 7)), ToGray(p=0.01), CLAHE(p=0.01, clip_limit=(1, 4.0), tile_grid_size=(8, 8))
val: Scanning /content/datasets/object-detect-korbo-1/valid/labels... 5 images, 0 backgrounds, 0 corrupt: 100% 5/5 [00:00<00:00, 911.96it/s]
val: New cache created: /content/datasets/object-detect-korbo-1/valid/labels.cache
Image sizes 800 train, 800 val
Using 2 dataloader workers
Logging results to runs/detect/train
Starting training for 50 epochs...

      Epoch    GPU_mem   box_loss   cls_loss   dfl_loss  Instances       Size
       1/50      6.27G      2.263      4.076      1.713         52        800: 100% 6/6 [00:17<00:00,  2.91s/it]
/usr/local/lib/python3.10/dist-packages/torch/optim/lr_scheduler.py:136: UserWarning: Detected call of `lr_scheduler.step()` before `optimizer.step()`. In PyTorch 1.1.0 and later, you should call them in the opposite order: `optimizer.step()` before `lr_scheduler.step()`.  Failure to do this will result in PyTorch skipping the first value of the learning rate schedule. See more details at https://pytorch.org/docs/stable/optim.html#how-to-adjust-learning-rate
  warnings.warn("Detected call of `lr_scheduler.step()` before `optimizer.step()`. "
                 Class     Images  Instances      Box(P          R      mAP50  mAP50-95): 100% 1/1 [00:01<00:00,  1.57s/it]
                   all          5         23      0.134      0.206      0.283      0.111
                   car          5         17      0.268      0.412      0.287     0.0936
                 truck          5          6          0          0      0.278      0.128

      Epoch    GPU_mem   box_loss   cls_loss   dfl_loss  Instances       Size
       2/50      6.72G      2.323      3.514      1.771         39        800: 100% 6/6 [00:09<00:00,  1.57s/it]
                 Class     Images  Instances      Box(P          R      mAP50  mAP50-95): 100% 1/1 [00:00<00:00,  3.93it/s]
                   all          5         23      0.456      0.587      0.597      0.314
                   car          5         17      0.399      0.819      0.654      0.283
                 truck          5          6      0.514      0.356       0.54      0.345

      Epoch    GPU_mem   box_loss   cls_loss   dfl_loss  Instances       Size
       3/50      7.17G      2.135      1.907      1.594         65        800: 100% 6/6 [00:06<00:00,  1.10s/it]
                 Class     Images  Instances      Box(P          R      mAP50  mAP50-95): 100% 1/1 [00:00<00:00,  2.52it/s]
                   all          5         23      0.713      0.885      0.843      0.436
                   car          5         17      0.712      0.941      0.946      0.437
                 truck          5          6      0.713       0.83      0.739      0.436

      Epoch    GPU_mem   box_loss   cls_loss   dfl_loss  Instances       Size
       4/50      7.18G      1.957      1.456      1.446         44        800: 100% 6/6 [00:06<00:00,  1.08s/it]
                 Class     Images  Instances      Box(P          R      mAP50  mAP50-95): 100% 1/1 [00:00<00:00,  3.43it/s]
                   all          5         23      0.948      0.691      0.828      0.479
                   car          5         17      0.924      0.882      0.964      0.463
                 truck          5          6      0.971        0.5      0.693      0.496

      Epoch    GPU_mem   box_loss   cls_loss   dfl_loss  Instances       Size
       5/50      7.18G      1.896      1.323       1.34         73        800: 100% 6/6 [00:07<00:00,  1.27s/it]
                 Class     Images  Instances      Box(P          R      mAP50  mAP50-95): 100% 1/1 [00:00<00:00,  3.76it/s]
                   all          5         23      0.911      0.742      0.837       0.51
                   car          5         17          1      0.817      0.945      0.473
                 truck          5          6      0.822      0.667      0.729      0.547

      Epoch    GPU_mem   box_loss   cls_loss   dfl_loss  Instances       Size
       6/50      7.18G      1.914      1.393      1.296         50        800: 100% 6/6 [00:06<00:00,  1.05s/it]
                 Class     Images  Instances      Box(P          R      mAP50  mAP50-95): 100% 1/1 [00:00<00:00,  3.71it/s]
                   all          5         23          1      0.711      0.849      0.511
                   car          5         17          1      0.779      0.948      0.492
                 truck          5          6          1      0.644      0.751      0.531

      Epoch    GPU_mem   box_loss   cls_loss   dfl_loss  Instances       Size
       7/50      7.66G      1.882      1.227      1.271         68        800: 100% 6/6 [00:08<00:00,  1.35s/it]
                 Class     Images  Instances      Box(P          R      mAP50  mAP50-95): 100% 1/1 [00:00<00:00,  3.77it/s]
                   all          5         23      0.855       0.68      0.877      0.496
                   car          5         17          1      0.527      0.964       0.49
                 truck          5          6       0.71      0.833       0.79      0.502

      Epoch    GPU_mem   box_loss   cls_loss   dfl_loss  Instances       Size
       8/50      7.66G      1.815      1.246      1.211         79        800: 100% 6/6 [00:06<00:00,  1.12s/it]
                 Class     Images  Instances      Box(P          R      mAP50  mAP50-95): 100% 1/1 [00:00<00:00,  2.64it/s]
                   all          5         23      0.917      0.839      0.915      0.545
                   car          5         17      0.834          1      0.986      0.506
                 truck          5          6          1      0.679      0.844      0.584

      Epoch    GPU_mem   box_loss   cls_loss   dfl_loss  Instances       Size
       9/50      7.66G      1.792      1.108      1.229         58        800: 100% 6/6 [00:06<00:00,  1.10s/it]
                 Class     Images  Instances      Box(P          R      mAP50  mAP50-95): 100% 1/1 [00:00<00:00,  3.63it/s]
                   all          5         23      0.843      0.917      0.916      0.492
                   car          5         17       0.93          1      0.982      0.463
                 truck          5          6      0.757      0.833       0.85      0.521

      Epoch    GPU_mem   box_loss   cls_loss   dfl_loss  Instances       Size
      10/50      7.66G      1.772      1.299      1.252         61        800: 100% 6/6 [00:08<00:00,  1.36s/it]
                 Class     Images  Instances      Box(P          R      mAP50  mAP50-95): 100% 1/1 [00:00<00:00,  3.62it/s]
                   all          5         23      0.936      0.827      0.876      0.457
                   car          5         17      0.944      0.987      0.959      0.461
                 truck          5          6      0.928      0.667      0.793      0.454

      Epoch    GPU_mem   box_loss   cls_loss   dfl_loss  Instances       Size
      11/50      7.66G      1.724      1.161      1.225         77        800: 100% 6/6 [00:06<00:00,  1.08s/it]
                 Class     Images  Instances      Box(P          R      mAP50  mAP50-95): 100% 1/1 [00:00<00:00,  3.56it/s]
                   all          5         23      0.826      0.917      0.885      0.498
                   car          5         17      0.942          1      0.959      0.493
                 truck          5          6      0.711      0.833      0.811      0.503

      Epoch    GPU_mem   box_loss   cls_loss   dfl_loss  Instances       Size
      12/50      7.66G      1.774      1.263       1.28         28        800: 100% 6/6 [00:08<00:00,  1.36s/it]
                 Class     Images  Instances      Box(P          R      mAP50  mAP50-95): 100% 1/1 [00:00<00:00,  3.81it/s]
                   all          5         23      0.969      0.917      0.917      0.512
                   car          5         17      0.958          1      0.995      0.494
                 truck          5          6      0.981      0.833       0.84      0.531

      Epoch    GPU_mem   box_loss   cls_loss   dfl_loss  Instances       Size
      13/50      7.66G      1.627      1.058      1.183         49        800: 100% 6/6 [00:06<00:00,  1.03s/it]
                 Class     Images  Instances      Box(P          R      mAP50  mAP50-95): 100% 1/1 [00:00<00:00,  2.85it/s]
                   all          5         23      0.964      0.913      0.917      0.513
                   car          5         17      0.927          1      0.995      0.527
                 truck          5          6          1      0.825      0.839      0.499

      Epoch    GPU_mem   box_loss   cls_loss   dfl_loss  Instances       Size
      14/50      7.66G       1.76      1.137        1.2         64        800: 100% 6/6 [00:06<00:00,  1.15s/it]
                 Class     Images  Instances      Box(P          R      mAP50  mAP50-95): 100% 1/1 [00:00<00:00,  3.78it/s]
                   all          5         23      0.966      0.869      0.918       0.53
                   car          5         17      0.931          1      0.995      0.526
                 truck          5          6          1      0.738      0.841      0.534

      Epoch    GPU_mem   box_loss   cls_loss   dfl_loss  Instances       Size
      15/50      7.66G      1.677       1.12      1.159         66        800: 100% 6/6 [00:07<00:00,  1.32s/it]
                 Class     Images  Instances      Box(P          R      mAP50  mAP50-95): 100% 1/1 [00:00<00:00,  3.82it/s]
                   all          5         23      0.975      0.917       0.92      0.554
                   car          5         17       0.95          1      0.995      0.561
                 truck          5          6          1      0.833      0.845      0.547

      Epoch    GPU_mem   box_loss   cls_loss   dfl_loss  Instances       Size
      16/50      7.66G      1.602      1.084      1.145         66        800: 100% 6/6 [00:06<00:00,  1.00s/it]
                 Class     Images  Instances      Box(P          R      mAP50  mAP50-95): 100% 1/1 [00:00<00:00,  3.59it/s]
                   all          5         23      0.962      0.883      0.893      0.528
                   car          5         17      0.941      0.933      0.935      0.524
                 truck          5          6      0.984      0.833       0.85      0.533

      Epoch    GPU_mem   box_loss   cls_loss   dfl_loss  Instances       Size
      17/50      7.66G      1.629      1.018      1.136         56        800: 100% 6/6 [00:08<00:00,  1.34s/it]
                 Class     Images  Instances      Box(P          R      mAP50  mAP50-95): 100% 1/1 [00:00<00:00,  3.84it/s]
                   all          5         23      0.987      0.895      0.922      0.568
                   car          5         17      0.975          1      0.995      0.526
                 truck          5          6          1      0.791      0.848       0.61

      Epoch    GPU_mem   box_loss   cls_loss   dfl_loss  Instances       Size
      18/50      7.66G      1.675      1.006       1.17         86        800: 100% 6/6 [00:06<00:00,  1.09s/it]
                 Class     Images  Instances      Box(P          R      mAP50  mAP50-95): 100% 1/1 [00:00<00:00,  2.58it/s]
                   all          5         23       0.98      0.845      0.888      0.529
                   car          5         17          1      0.856      0.917      0.501
                 truck          5          6       0.96      0.833       0.86      0.558

      Epoch    GPU_mem   box_loss   cls_loss   dfl_loss  Instances       Size
      19/50      8.16G      1.674     0.9616       1.17         97        800: 100% 6/6 [00:06<00:00,  1.12s/it]
                 Class     Images  Instances      Box(P          R      mAP50  mAP50-95): 100% 1/1 [00:00<00:00,  3.58it/s]
                   all          5         23      0.962      0.887      0.902      0.553
                   car          5         17      0.941       0.94       0.94      0.553
                 truck          5          6      0.983      0.833      0.864      0.552

      Epoch    GPU_mem   box_loss   cls_loss   dfl_loss  Instances       Size
      20/50      8.16G      1.668     0.9912      1.146         53        800: 100% 6/6 [00:07<00:00,  1.29s/it]
                 Class     Images  Instances      Box(P          R      mAP50  mAP50-95): 100% 1/1 [00:00<00:00,  3.84it/s]
                   all          5         23      0.869      0.892      0.932      0.492
                   car          5         17      0.738          1      0.995      0.497
                 truck          5          6          1      0.784      0.869      0.487

      Epoch    GPU_mem   box_loss   cls_loss   dfl_loss  Instances       Size
      21/50      8.16G       1.72      1.158      1.203         42        800: 100% 6/6 [00:06<00:00,  1.08s/it]
                 Class     Images  Instances      Box(P          R      mAP50  mAP50-95): 100% 1/1 [00:00<00:00,  3.74it/s]
                   all          5         23      0.902      0.917      0.915      0.545
                   car          5         17      0.938          1      0.989      0.503
                 truck          5          6      0.866      0.833       0.84      0.587

      Epoch    GPU_mem   box_loss   cls_loss   dfl_loss  Instances       Size
      22/50      8.68G      1.662      1.014      1.176         77        800: 100% 6/6 [00:07<00:00,  1.30s/it]
                 Class     Images  Instances      Box(P          R      mAP50  mAP50-95): 100% 1/1 [00:00<00:00,  3.75it/s]
                   all          5         23      0.986      0.917      0.917      0.568
                   car          5         17      0.987          1      0.995      0.517
                 truck          5          6      0.986      0.833      0.839      0.618

      Epoch    GPU_mem   box_loss   cls_loss   dfl_loss  Instances       Size
      23/50      8.68G       1.62     0.9654      1.152         37        800: 100% 6/6 [00:06<00:00,  1.02s/it]
                 Class     Images  Instances      Box(P          R      mAP50  mAP50-95): 100% 1/1 [00:00<00:00,  3.77it/s]
                   all          5         23      0.883      0.917      0.917      0.588
                   car          5         17       0.99          1      0.995      0.583
                 truck          5          6      0.776      0.833      0.838      0.592

      Epoch    GPU_mem   box_loss   cls_loss   dfl_loss  Instances       Size
      24/50      8.68G      1.613     0.9166      1.134         94        800: 100% 6/6 [00:07<00:00,  1.20s/it]
                 Class     Images  Instances      Box(P          R      mAP50  mAP50-95): 100% 1/1 [00:00<00:00,  3.65it/s]
                   all          5         23      0.974      0.833      0.907      0.526
                   car          5         17      0.979          1      0.995       0.49
                 truck          5          6      0.969      0.667       0.82      0.562

      Epoch    GPU_mem   box_loss   cls_loss   dfl_loss  Instances       Size
      25/50      8.68G      1.595     0.8562      1.132         66        800: 100% 6/6 [00:07<00:00,  1.17s/it]
                 Class     Images  Instances      Box(P          R      mAP50  mAP50-95): 100% 1/1 [00:00<00:00,  2.72it/s]
                   all          5         23      0.909      0.915      0.907      0.569
                   car          5         17      0.985          1      0.995      0.568
                 truck          5          6      0.833      0.829      0.819      0.569

      Epoch    GPU_mem   box_loss   cls_loss   dfl_loss  Instances       Size
      26/50      8.68G      1.613     0.8993      1.147         58        800: 100% 6/6 [00:06<00:00,  1.02s/it]
                 Class     Images  Instances      Box(P          R      mAP50  mAP50-95): 100% 1/1 [00:00<00:00,  3.79it/s]
                   all          5         23      0.955      0.868      0.919      0.508
                   car          5         17      0.909          1      0.995      0.488
                 truck          5          6          1      0.735      0.844      0.529

      Epoch    GPU_mem   box_loss   cls_loss   dfl_loss  Instances       Size
      27/50      8.68G      1.548     0.8584      1.142         54        800: 100% 6/6 [00:07<00:00,  1.31s/it]
                 Class     Images  Instances      Box(P          R      mAP50  mAP50-95): 100% 1/1 [00:00<00:00,  3.84it/s]
                   all          5         23      0.933      0.917      0.923      0.551
                   car          5         17      0.883          1      0.995      0.538
                 truck          5          6      0.983      0.833      0.851      0.564

      Epoch    GPU_mem   box_loss   cls_loss   dfl_loss  Instances       Size
      28/50      8.68G      1.531     0.8822      1.125         71        800: 100% 6/6 [00:06<00:00,  1.05s/it]
                 Class     Images  Instances      Box(P          R      mAP50  mAP50-95): 100% 1/1 [00:00<00:00,  3.74it/s]
                   all          5         23      0.866      0.835      0.918      0.539
                   car          5         17      0.731          1      0.987      0.518
                 truck          5          6          1      0.671      0.849      0.561

      Epoch    GPU_mem   box_loss   cls_loss   dfl_loss  Instances       Size
      29/50      8.68G      1.478     0.9288      1.099         38        800: 100% 6/6 [00:08<00:00,  1.34s/it]
                 Class     Images  Instances      Box(P          R      mAP50  mAP50-95): 100% 1/1 [00:00<00:00,  3.85it/s]
                   all          5         23      0.917      0.904      0.919      0.568
                   car          5         17          1      0.975      0.995      0.521
                 truck          5          6      0.833      0.833      0.843      0.615

      Epoch    GPU_mem   box_loss   cls_loss   dfl_loss  Instances       Size
      30/50      8.68G       1.54     0.9359      1.109         92        800: 100% 6/6 [00:06<00:00,  1.05s/it]
                 Class     Images  Instances      Box(P          R      mAP50  mAP50-95): 100% 1/1 [00:00<00:00,  2.76it/s]
                   all          5         23      0.981       0.91      0.919      0.547
                   car          5         17      0.962          1      0.995      0.533
                 truck          5          6          1      0.821      0.844       0.56

      Epoch    GPU_mem   box_loss   cls_loss   dfl_loss  Instances       Size
      31/50      8.68G      1.508     0.8739      1.118         59        800: 100% 6/6 [00:07<00:00,  1.24s/it]
                 Class     Images  Instances      Box(P          R      mAP50  mAP50-95): 100% 1/1 [00:00<00:00,  3.80it/s]
                   all          5         23      0.993      0.916      0.918      0.553
                   car          5         17      0.986          1      0.995      0.503
                 truck          5          6          1      0.832      0.841      0.604

      Epoch    GPU_mem   box_loss   cls_loss   dfl_loss  Instances       Size
      32/50      8.68G      1.455     0.8223      1.112         57        800: 100% 6/6 [00:07<00:00,  1.23s/it]
                 Class     Images  Instances      Box(P          R      mAP50  mAP50-95): 100% 1/1 [00:00<00:00,  3.63it/s]
                   all          5         23      0.992      0.914      0.917      0.567
                   car          5         17      0.985          1      0.995      0.562
                 truck          5          6          1      0.828       0.84      0.571

      Epoch    GPU_mem   box_loss   cls_loss   dfl_loss  Instances       Size
      33/50      8.68G      1.469     0.8252      1.101         47        800: 100% 6/6 [00:06<00:00,  1.03s/it]
                 Class     Images  Instances      Box(P          R      mAP50  mAP50-95): 100% 1/1 [00:00<00:00,  3.62it/s]
                   all          5         23      0.972      0.917      0.917      0.594
                   car          5         17      0.994          1      0.995       0.58
                 truck          5          6       0.95      0.833       0.84      0.608

      Epoch    GPU_mem   box_loss   cls_loss   dfl_loss  Instances       Size
      34/50      8.68G      1.547     0.8893      1.161         59        800: 100% 6/6 [00:08<00:00,  1.37s/it]
                 Class     Images  Instances      Box(P          R      mAP50  mAP50-95): 100% 1/1 [00:00<00:00,  3.46it/s]
                   all          5         23      0.957      0.917      0.921      0.609
                   car          5         17      0.987          1      0.995      0.592
                 truck          5          6      0.928      0.833      0.848      0.625

      Epoch    GPU_mem   box_loss   cls_loss   dfl_loss  Instances       Size
      35/50      8.68G      1.433     0.8383      1.076         78        800: 100% 6/6 [00:06<00:00,  1.03s/it]
                 Class     Images  Instances      Box(P          R      mAP50  mAP50-95): 100% 1/1 [00:00<00:00,  3.01it/s]
                   all          5         23       0.91      0.917      0.923      0.567
                   car          5         17       0.99          1      0.995      0.565
                 truck          5          6      0.831      0.833      0.851       0.57

      Epoch    GPU_mem   box_loss   cls_loss   dfl_loss  Instances       Size
      36/50      8.68G      1.475     0.8554      1.104         62        800: 100% 6/6 [00:07<00:00,  1.17s/it]
                 Class     Images  Instances      Box(P          R      mAP50  mAP50-95): 100% 1/1 [00:00<00:00,  3.64it/s]
                   all          5         23      0.969      0.917      0.922      0.592
                   car          5         17      0.997          1      0.995      0.564
                 truck          5          6       0.94      0.833      0.849       0.62

      Epoch    GPU_mem   box_loss   cls_loss   dfl_loss  Instances       Size
      37/50      8.68G      1.509     0.8351      1.104         68        800: 100% 6/6 [00:07<00:00,  1.23s/it]
                 Class     Images  Instances      Box(P          R      mAP50  mAP50-95): 100% 1/1 [00:00<00:00,  2.69it/s]
                   all          5         23      0.985      0.905      0.922      0.587
                   car          5         17          1      0.978      0.995      0.563
                 truck          5          6      0.969      0.833      0.849      0.612

      Epoch    GPU_mem   box_loss   cls_loss   dfl_loss  Instances       Size
      38/50      8.68G      1.463     0.8162      1.113         66        800: 100% 6/6 [00:06<00:00,  1.09s/it]
                 Class     Images  Instances      Box(P          R      mAP50  mAP50-95): 100% 1/1 [00:00<00:00,  3.63it/s]
                   all          5         23      0.991      0.917      0.918      0.561
                   car          5         17      0.999          1      0.995      0.537
                 truck          5          6      0.982      0.833      0.841      0.584

      Epoch    GPU_mem   box_loss   cls_loss   dfl_loss  Instances       Size
      39/50      8.68G      1.466      0.782      1.089         68        800: 100% 6/6 [00:07<00:00,  1.28s/it]
                 Class     Images  Instances      Box(P          R      mAP50  mAP50-95): 100% 1/1 [00:00<00:00,  3.77it/s]
                   all          5         23          1      0.916      0.918      0.592
                   car          5         17          1      0.999      0.995       0.55
                 truck          5          6          1      0.832       0.84      0.634

      Epoch    GPU_mem   box_loss   cls_loss   dfl_loss  Instances       Size
      40/50      8.68G      1.421     0.7871      1.097         70        800: 100% 6/6 [00:06<00:00,  1.02s/it]
                 Class     Images  Instances      Box(P          R      mAP50  mAP50-95): 100% 1/1 [00:00<00:00,  3.55it/s]
                   all          5         23      0.999      0.913      0.918      0.594
                   car          5         17          1      0.992      0.995      0.587
                 truck          5          6      0.998      0.833      0.841      0.601
Closing dataloader mosaic
albumentations: Blur(p=0.01, blur_limit=(3, 7)), MedianBlur(p=0.01, blur_limit=(3, 7)), ToGray(p=0.01), CLAHE(p=0.01, clip_limit=(1, 4.0), tile_grid_size=(8, 8))

      Epoch    GPU_mem   box_loss   cls_loss   dfl_loss  Instances       Size
      41/50      8.68G      1.473     0.7852      1.098         45        800: 100% 6/6 [00:08<00:00,  1.45s/it]
                 Class     Images  Instances      Box(P          R      mAP50  mAP50-95): 100% 1/1 [00:00<00:00,  3.16it/s]
                   all          5         23      0.989      0.917      0.919      0.607
                   car          5         17      0.995          1      0.995      0.595
                 truck          5          6      0.982      0.833      0.842      0.618

      Epoch    GPU_mem   box_loss   cls_loss   dfl_loss  Instances       Size
      42/50      8.68G      1.511     0.8088      1.137         44        800: 100% 6/6 [00:04<00:00,  1.48it/s]
                 Class     Images  Instances      Box(P          R      mAP50  mAP50-95): 100% 1/1 [00:00<00:00,  3.45it/s]
                   all          5         23      0.988      0.917      0.927      0.602
                   car          5         17      0.994          1      0.995      0.592
                 truck          5          6      0.981      0.833       0.86      0.612

      Epoch    GPU_mem   box_loss   cls_loss   dfl_loss  Instances       Size
      43/50      8.68G      1.452     0.7962      1.109         43        800: 100% 6/6 [00:05<00:00,  1.08it/s]
                 Class     Images  Instances      Box(P          R      mAP50  mAP50-95): 100% 1/1 [00:00<00:00,  3.50it/s]
                   all          5         23      0.985      0.917      0.928      0.605
                   car          5         17      0.987          1      0.995      0.592
                 truck          5          6      0.983      0.833      0.862      0.618

      Epoch    GPU_mem   box_loss   cls_loss   dfl_loss  Instances       Size
      44/50      8.68G      1.425     0.7647      1.088         44        800: 100% 6/6 [00:04<00:00,  1.37it/s]
                 Class     Images  Instances      Box(P          R      mAP50  mAP50-95): 100% 1/1 [00:00<00:00,  3.68it/s]
                   all          5         23       0.98      0.917      0.928      0.596
                   car          5         17      0.991          1      0.995      0.572
                 truck          5          6      0.969      0.833      0.862      0.619

      Epoch    GPU_mem   box_loss   cls_loss   dfl_loss  Instances       Size
      45/50      8.68G      1.454     0.7923      1.104         43        800: 100% 6/6 [00:04<00:00,  1.47it/s]
                 Class     Images  Instances      Box(P          R      mAP50  mAP50-95): 100% 1/1 [00:00<00:00,  2.58it/s]
                   all          5         23      0.984      0.917      0.929      0.581
                   car          5         17      0.989          1      0.995      0.565
                 truck          5          6      0.979      0.833      0.862      0.597

      Epoch    GPU_mem   box_loss   cls_loss   dfl_loss  Instances       Size
      46/50      8.68G      1.416     0.7631      1.083         43        800: 100% 6/6 [00:04<00:00,  1.36it/s]
                 Class     Images  Instances      Box(P          R      mAP50  mAP50-95): 100% 1/1 [00:00<00:00,  3.59it/s]
                   all          5         23      0.974      0.917       0.93      0.564
                   car          5         17      0.966          1      0.995      0.553
                 truck          5          6      0.983      0.833      0.864      0.576

      Epoch    GPU_mem   box_loss   cls_loss   dfl_loss  Instances       Size
      47/50      8.68G      1.433     0.7442      1.096         49        800: 100% 6/6 [00:04<00:00,  1.35it/s]
                 Class     Images  Instances      Box(P          R      mAP50  mAP50-95): 100% 1/1 [00:00<00:00,  3.59it/s]
                   all          5         23      0.969      0.913       0.93      0.573
                   car          5         17      0.938          1      0.995      0.572
                 truck          5          6          1      0.826      0.864      0.574

      Epoch    GPU_mem   box_loss   cls_loss   dfl_loss  Instances       Size
      48/50      8.68G      1.396     0.7521      1.085         48        800: 100% 6/6 [00:05<00:00,  1.06it/s]
                 Class     Images  Instances      Box(P          R      mAP50  mAP50-95): 100% 1/1 [00:00<00:00,  3.62it/s]
                   all          5         23      0.953      0.909       0.93      0.584
                   car          5         17      0.906          1      0.995      0.593
                 truck          5          6          1      0.819      0.864      0.575

      Epoch    GPU_mem   box_loss   cls_loss   dfl_loss  Instances       Size
      49/50      8.68G      1.362     0.7417      1.078         47        800: 100% 6/6 [00:04<00:00,  1.49it/s]
                 Class     Images  Instances      Box(P          R      mAP50  mAP50-95): 100% 1/1 [00:00<00:00,  3.66it/s]
                   all          5         23      0.949      0.903      0.931       0.59
                   car          5         17      0.898          1      0.995      0.582
                 truck          5          6          1      0.807      0.867      0.599

      Epoch    GPU_mem   box_loss   cls_loss   dfl_loss  Instances       Size
      50/50      8.68G      1.357     0.7612       1.07         45        800: 100% 6/6 [00:04<00:00,  1.20it/s]
                 Class     Images  Instances      Box(P          R      mAP50  mAP50-95): 100% 1/1 [00:00<00:00,  2.03it/s]
                   all          5         23      0.938      0.906      0.931      0.596
                   car          5         17      0.877          1      0.995      0.594
                 truck          5          6          1      0.812      0.867      0.599

50 epochs completed in 0.112 hours.
Optimizer stripped from runs/detect/train/weights/last.pt, 22.5MB
Optimizer stripped from runs/detect/train/weights/best.pt, 22.5MB

Validating runs/detect/train/weights/best.pt...
Ultralytics YOLOv8.0.20 🚀 Python-3.10.12 torch-2.1.0+cu121 CUDA:0 (Tesla T4, 15102MiB)
Model summary (fused): 168 layers, 11126358 parameters, 0 gradients, 28.4 GFLOPs
                 Class     Images  Instances      Box(P          R      mAP50  mAP50-95): 100% 1/1 [00:00<00:00,  2.42it/s]
                   all          5         23      0.958      0.917      0.921      0.602
                   car          5         17      0.987          1      0.995      0.595
                 truck          5          6      0.929      0.833      0.848      0.608
Speed: 0.4ms pre-process, 10.1ms inference, 0.0ms loss, 1.4ms post-process per image
Results saved to runs/detect/train
!ls {HOME}/runs/detect/train/
args.yaml					    R_curve.png		train_batch241.jpg
confusion_matrix.png				    results.csv		train_batch242.jpg
events.out.tfevents.1705426441.86fad149bd37.3023.0  results.png		train_batch2.jpg
F1_curve.png					    train_batch0.jpg	val_batch0_labels.jpg
P_curve.png					    train_batch1.jpg	val_batch0_pred.jpg
PR_curve.png					    train_batch240.jpg	weights
Confusion Matrix
%cd {HOME}
Image(filename=f'{HOME}/runs/detect/train/confusion_matrix.png', width=600)
/content

%cd {HOME}
Image(filename=f'{HOME}/runs/detect/train/results.png', width=600)
/content

%cd {HOME}
Image(filename=f'{HOME}/runs/detect/train/val_batch0_pred.jpg', width=600)
/content

!zip -r weights.zip runs/detect/train/weights/
  adding: runs/detect/train/weights/ (stored 0%)
  adding: runs/detect/train/weights/best.pt (deflated 8%)
  adding: runs/detect/train/weights/last.pt (deflated 8%)
Download video

%cd {HOME}
!wget --load-cookies /tmp/cookies.txt "https://docs.google.com/uc?export=download&confirm=$(wget --quiet --save-cookies /tmp/cookies.txt --keep-session-cookies --no-check-certificate 'https://docs.google.com/uc?export=download&id=1pz68D1Gsx80MoPg-_q-IbEdESEmyVLm-' -O- | sed -rn 's/.*confirm=([0-9A-Za-z_]+).*/\1\n/p')&id=1pz68D1Gsx80MoPg-_q-IbEdESEmyVLm-" -O vehicle-counting.mp4 && rm -rf /tmp/cookies.txt
/content
--2024-01-16 17:41:59--  https://docs.google.com/uc?export=download&confirm=&id=1pz68D1Gsx80MoPg-_q-IbEdESEmyVLm-
Resolving docs.google.com (docs.google.com)... 142.251.171.138, 142.251.171.100, 142.251.171.102, ...
Connecting to docs.google.com (docs.google.com)|142.251.171.138|:443... connected.
HTTP request sent, awaiting response... 303 See Other
Location: https://drive.usercontent.google.com/download?id=1pz68D1Gsx80MoPg-_q-IbEdESEmyVLm-&export=download [following]
--2024-01-16 17:41:59--  https://drive.usercontent.google.com/download?id=1pz68D1Gsx80MoPg-_q-IbEdESEmyVLm-&export=download
Resolving drive.usercontent.google.com (drive.usercontent.google.com)... 173.194.206.132, 2607:f8b0:4001:c62::84
Connecting to drive.usercontent.google.com (drive.usercontent.google.com)|173.194.206.132|:443... connected.
HTTP request sent, awaiting response... 200 OK
Length: 35345757 (34M) [video/mp4]
Saving to: ‘vehicle-counting.mp4’

vehicle-counting.mp 100%[===================>]  33.71M   200MB/s    in 0.2s    

2024-01-16 17:42:01 (200 MB/s) - ‘vehicle-counting.mp4’ saved [35345757/35345757]

SOURCE_VIDEO_PATH = f"{HOME}/vehicle-counting.mp4"
!pip install ultralytics

from IPython import display
display.clear_output()

import ultralytics
ultralytics.checks()
Ultralytics YOLOv8.0.20 🚀 Python-3.10.12 torch-2.1.0+cu121 CUDA:0 (Tesla T4, 15102MiB)
Setup complete ✅ (2 CPUs, 12.7 GB RAM, 26.7/78.2 GB disk)
%cd {HOME}
!git clone https://github.com/ifzhang/ByteTrack.git
%cd {HOME}/ByteTrack

!sed -i 's/onnx==1.8.1/onnx==1.9.0/g' requirements.txt

!pip3 install -q -r requirements.txt
!python3 setup.py -q develop
!pip install -q cython_bbox
!pip install -q onemetric

!pip install -q loguru lap thop

from IPython import display
display.clear_output()
import sys
sys.path.append(f"{HOME}/ByteTrack")

import yolox
print("yolox.__version__:", yolox.__version__)
yolox.__version__: 0.1.0
from yolox.tracker.byte_tracker import BYTETracker, STrack
from onemetric.cv.utils.iou import box_iou_batch
from dataclasses import dataclass


@dataclass(frozen=True)
class BYTETrackerArgs:
    track_thresh: float = 0.25
    track_buffer: int = 30
    match_thresh: float = 0.8
    aspect_ratio_thresh: float = 3.0
    min_box_area: float = 1.0
    mot20: bool = False
!pip install supervision==0.1.0


from IPython import display
display.clear_output()


import supervision
print("supervision.__version__:", supervision.__version__)
supervision.__version__: 0.17.1
from supervision.draw.color import ColorPalette
import supervision as sv
from supervision.geometry.dataclasses import Point
from supervision.video.dataclasses import VideoInfo
from supervision.video.source import get_video_frames_generator
from supervision.video.sink import VideoSink
from supervision.notebook.utils import show_frame_in_notebook
from supervision.tools.detections import Detections, BoxAnnotator
from supervision.tools.line_counter import LineCounter, LineCounterAnnotator
from typing import List

import numpy as np


# converts Detections into format that can be consumed by match_detections_with_tracks function
def detections2boxes(detections: Detections) -> np.ndarray:
    return np.hstack((
        detections.xyxy,
        detections.confidence[:, np.newaxis]
    ))


# converts List[STrack] into format that can be consumed by match_detections_with_tracks function
def tracks2boxes(tracks: List[STrack]) -> np.ndarray:
    return np.array([
        track.tlbr
        for track
        in tracks
    ], dtype=float)


# matches our bounding boxes with predictions
def match_detections_with_tracks(
    detections: Detections,
    tracks: List[STrack]
) -> Detections:
    if not np.any(detections.xyxy) or len(tracks) == 0:
        return np.empty((0,))

    tracks_boxes = tracks2boxes(tracks=tracks)
    iou = box_iou_batch(tracks_boxes, detections.xyxy)
    track2detection = np.argmax(iou, axis=1)

    tracker_ids = [None] * len(detections)

    for tracker_index, detection_index in enumerate(track2detection):
        if iou[tracker_index, detection_index] != 0:
            tracker_ids[detection_index] = tracks[tracker_index].track_id

    return tracker_ids
MODEL = "/content/runs/detect/train/weights/best.pt"
from ultralytics import YOLO

model = YOLO(MODEL)
model.fuse()
Model summary (fused): 168 layers, 11126358 parameters, 0 gradients, 28.4 GFLOPs
# dict maping class_id to class_name
CLASS_NAMES_DICT = model.model.names
# class_ids of interest - car, motorcycle, bus and truck
print(CLASS_NAMES_DICT)
{0: 'car', 1: 'truck'}
CLASS_ID = [0,1]
SOURCE_VIDEO_PATH="/content/vehicle-counting.mp4"
class Particle:
    color = (255, 255, 0)
    ID = 0

    def __init__(self, rect):
        Particle.ID += 1
        self.rect = rect

        print(self.ID)
        print(self.color)

p = Particle(None)
1
(255, 255, 0)
def default(cls) -> ColorPalette:
    """
    Returns a default color palette.

    Returns:
        ColorPalette: A ColorPalette instance with default colors.

    Example:
        ```
        >>> ColorPalette.default()
        ColorPalette(colors=[Color(r=255, g=0, b=0), Color(r=0, g=255, b=0), ...])
        ```
    """
    return ColorPalette.from_hex(color_hex_list=DEFAULT_COLOR_PALETTE)
# create frame generator
generator = get_video_frames_generator(SOURCE_VIDEO_PATH)
# create instance of BoxAnnotator
box_annotator = sv.BoxAnnotator(thickness=4, text_thickness=4, text_scale=2)
#color=ColorPalette(),
# acquire first video frame
iterator = iter(generator)
frame = next(iterator)
# model prediction on single frame and conversion to supervision Detections
results = model(frame)
detections = Detections(
    xyxy=results[0].boxes.xyxy.cpu().numpy(),
    confidence=results[0].boxes.conf.cpu().numpy(),
    class_id=results[0].boxes.cls.cpu().numpy().astype(int)
)
# format custom labels
labels = [
    f"{CLASS_NAMES_DICT[class_id]} {confidence:0.2f}"
    for _, confidence, class_id, tracker_id
    in detections
]

# annotate and display frame
#frame = box_annotator.annotate(frame=frame, detections=detections, labels=labels)
box_annotator = sv.BoxAnnotator(thickness=4, text_thickness=4, text_scale=2)
labels = [f"{model.names[class_id]} {confidence:0.2f}" for _, confidence, class_id, _ in detections]
frame = box_annotator.annotate(scene=frame, detections=detections, labels=labels)
%matplotlib inline
show_frame_in_notebook(frame, (16, 16))
Ultralytics YOLOv8.0.20 🚀 Python-3.10.12 torch-2.1.0+cu121 CUDA:0 (Tesla T4, 15102MiB)

# settings
LINE_START = Point(50, 1500)
LINE_END = Point(3840-50, 1500)

TARGET_VIDEO_PATH = f"{HOME}/vehicle-counting-result.mp4"
VideoInfo.from_video_path(SOURCE_VIDEO_PATH)
VideoInfo(width=3840, height=2160, fps=25, total_frames=538)
from tqdm.notebook import tqdm


# create BYTETracker instance
byte_tracker = BYTETracker(BYTETrackerArgs())
# create VideoInfo instance
video_info = VideoInfo.from_video_path(SOURCE_VIDEO_PATH)
# create frame generator
generator = get_video_frames_generator(SOURCE_VIDEO_PATH)
# create LineCounter instance
line_counter = LineCounter(start=LINE_START, end=LINE_END)
# create instance of BoxAnnotator and LineCounterAnnotator
box_annotator = sv.BoxAnnotator(thickness=4, text_thickness=4, text_scale=2)
line_annotator = LineCounterAnnotator(thickness=4, text_thickness=4, text_scale=2)

# open target video file
with VideoSink(TARGET_VIDEO_PATH, video_info) as sink:
    # loop over video frames
    for frame in tqdm(generator, total=video_info.total_frames):
        # model prediction on single frame and conversion to supervision Detections
        results = model(frame)
        detections = Detections(
            xyxy=results[0].boxes.xyxy.cpu().numpy(),
            confidence=results[0].boxes.conf.cpu().numpy(),
            class_id=results[0].boxes.cls.cpu().numpy().astype(int)
        )
        # filtering out detections with unwanted classes
        mask = np.array([class_id in CLASS_ID for class_id in detections.class_id], dtype=bool)
        detections.filter(mask=mask, inplace=True)
        # tracking detections
        tracks = byte_tracker.update(
            output_results=detections2boxes(detections=detections),
            img_info=frame.shape,
            img_size=frame.shape
        )
        tracker_id = match_detections_with_tracks(detections=detections, tracks=tracks)
        detections.tracker_id = np.array(tracker_id)
        # filtering out detections without trackers
        mask = np.array([tracker_id is not None for tracker_id in detections.tracker_id], dtype=bool)
        detections.filter(mask=mask, inplace=True)
        # format custom labels
        labels = [
            f"#{tracker_id} {CLASS_NAMES_DICT[class_id]} {confidence:0.2f}"
            for _, confidence, class_id, tracker_id
            in detections
        ]
        # updating line counter
        line_counter.update(detections=detections)
        # annotate and display frame
        #frame = box_annotator.annotate(frame=frame, detections=detections, labels=labels)
        box_annotator = sv.BoxAnnotator(thickness=4, text_thickness=4, text_scale=2)
        labels = [f"{model.names[class_id]} {confidence:0.2f}" for _, confidence, class_id, _ in detections]
        frame = box_annotator.annotate(scene=frame, detections=detections, labels=labels)
        line_annotator.annotate(frame=frame, line_counter=line_counter)
        sink.write_frame(frame)
  0%|          | 0/538 [00:00<?, ?it/s]
Validate Custom Model
%cd {HOME}

!yolo task=detect mode=val model={HOME}/runs/detect/train/weights/best.pt data={dataset.location}/data.yaml
/content
2024-01-16 17:46:30.338009: E external/local_xla/xla/stream_executor/cuda/cuda_dnn.cc:9261] Unable to register cuDNN factory: Attempting to register factory for plugin cuDNN when one has already been registered
2024-01-16 17:46:30.338060: E external/local_xla/xla/stream_executor/cuda/cuda_fft.cc:607] Unable to register cuFFT factory: Attempting to register factory for plugin cuFFT when one has already been registered
2024-01-16 17:46:30.339276: E external/local_xla/xla/stream_executor/cuda/cuda_blas.cc:1515] Unable to register cuBLAS factory: Attempting to register factory for plugin cuBLAS when one has already been registered
2024-01-16 17:46:31.371294: W tensorflow/compiler/tf2tensorrt/utils/py_utils.cc:38] TF-TRT Warning: Could not find TensorRT
Ultralytics YOLOv8.0.20 🚀 Python-3.10.12 torch-2.1.0+cu121 CUDA:0 (Tesla T4, 15102MiB)
Model summary (fused): 168 layers, 11126358 parameters, 0 gradients, 28.4 GFLOPs
val: Scanning /content/datasets/object-detect-korbo-1/valid/labels.cache... 5 images, 0 backgrounds, 0 corrupt: 100% 5/5 [00:00<?, ?it/s]
                 Class     Images  Instances      Box(P          R      mAP50  mAP50-95): 100% 1/1 [00:01<00:00,  1.04s/it]
                   all          5         23      0.957      0.917      0.921      0.617
                   car          5         17      0.986          1      0.995      0.597
                 truck          5          6      0.927      0.833      0.848      0.637
Speed: 0.4ms pre-process, 23.0ms inference, 0.0ms loss, 97.2ms post-process per image
Results
Class	Precision	Recall	mAP50	mAP50-95
all	0.965	0.917	0.93	0.639
car	0.989	1	0.995	0.583
truck	0.941	0.833	0.866	0.695
The YOLOv8 model exhibits highly commendable performance in the task of detecting, tracking, and counting vehicles in traffic videos. Across various vehicle classes, including cars and trucks, the model achieves impressive precision, recall, and mean Average Precision (mAP50) scores. Notably, the "car" class demonstrates near perfection with a precision of 0.989, recall of 1, and an mAP50 of 0.995, underscoring the model's exceptional accuracy in identifying cars. The overall mAP50 of 0.93 suggests a robust and comprehensive detection capability across all vehicle classes. Additionally, the model's generalization to the validation set and its efficient processing speed, averaging 9.7ms during training and 22.9ms during validation per image, further highlight its suitability for real-time traffic monitoring applications.
